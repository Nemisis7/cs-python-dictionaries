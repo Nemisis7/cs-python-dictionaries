{
 "cells": [
  {
   "cell_type": "code",
   "execution_count": 1,
   "metadata": {},
   "outputs": [
    {
     "data": {
      "text/plain": [
       "{'Ana': '29/20', 'Barb': '12/4', 'Charles': '13/6', 'Tina': '2/01'}"
      ]
     },
     "execution_count": 1,
     "metadata": {},
     "output_type": "execute_result"
    }
   ],
   "source": [
    "bDayDic = {\"Ana\": \"29/20\", \"Barb\" : \"12/4\", \"Charles\" : \"13/6\"}\n",
    "\n",
    "bDayDic[\"Tina\"] = \"2/01\"\n",
    "bDayDic"
   ]
  },
  {
   "cell_type": "code",
   "execution_count": 2,
   "metadata": {},
   "outputs": [
    {
     "name": "stdout",
     "output_type": "stream",
     "text": [
      "key=  Barb  value=  12/4\n",
      "key=  Tina  value=  2/01\n",
      "key=  Ana  value=  29/20\n",
      "key=  Charles  value=  13/6\n",
      "Barb : 12/4\n",
      "Tina : 2/01\n",
      "Ana : 29/20\n",
      "Charles : 13/6\n"
     ]
    }
   ],
   "source": [
    "for key in bDayDic:\n",
    "    print(\"key= \", key, \" value= \", bDayDic[key])\n",
    "    \n",
    "for key, value in bDayDic.items():\n",
    "    print(key, \":\", value)\n",
    "    "
   ]
  },
  {
   "cell_type": "code",
   "execution_count": 3,
   "metadata": {},
   "outputs": [
    {
     "name": "stdout",
     "output_type": "stream",
     "text": [
      "the key tina does not exist in birthday dictionary\n"
     ]
    }
   ],
   "source": [
    "key = \"tina\"\n",
    "\n",
    "if key in bDayDic:\n",
    "    print(\"yes its there!\")\n",
    "else:\n",
    "    print(\"the key\", key, \"does not exist in birthday dictionary\")"
   ]
  },
  {
   "cell_type": "code",
   "execution_count": null,
   "metadata": {},
   "outputs": [],
   "source": [
    "def fillDict():\n",
    "    \n",
    "    newDict = {}\n",
    "    cont = 'y'\n",
    "    while cont == 'y':\n",
    "        key=input(\"enter a new key - your friend's name. This must be unique\")\n",
    "        va=input(\"enter a new value - that friend's favourite colour\")\n",
    "        newDict[key]=value\n",
    "        cont = input(\"do you want to continue? Yes/No\").lower()\n",
    "        \n",
    "    return newDict\n",
    "\n",
    "myDict=fillDict()\n",
    "myDict"
   ]
  },
  {
   "cell_type": "code",
   "execution_count": null,
   "metadata": {},
   "outputs": [],
   "source": [
    "import csv\n",
    "\n",
    "def loadDictFromCSV():\n",
    "    \n",
    "    with open(\"languages.csv\",\"r\") as f:\n",
    "        reader=csv.reader(f)\n",
    "        \n",
    "        dictionary={}\n",
    "        for row in reader:\n",
    "            print(row)\n",
    "            index = row[0]\n",
    "            value=row[1]\n",
    "            dictionary[index]=value\n",
    "        \n",
    "        return dictionary\n",
    "    \n",
    "myLangDict = loadDictFromCSV()\n",
    "print(myLangDict)\n"
   ]
  },
  {
   "cell_type": "code",
   "execution_count": null,
   "metadata": {},
   "outputs": [],
   "source": [
    "cont = 'y'\n",
    "while cont == 'y':\n",
    "    key = input(\"Name of the programming language you want to know the author of\")\n",
    "    author = myLangDict[key]\n",
    "    print(\"the author of \", key, \" is \", author)\n",
    "    cont = input(\"do you want to find out another? y/n\").lower()\n",
    "    "
   ]
  },
  {
   "cell_type": "code",
   "execution_count": null,
   "metadata": {},
   "outputs": [],
   "source": [
    "def loadRecipes():\n",
    "    \n",
    "    with open(\"recipes.csv\",\"r\") as f:\n",
    "        reader = csv.reader(f)\n",
    "        \n",
    "        recipes={}\n",
    "        for row in reader:\n",
    "            recipes[row[0]]=row[1:]\n",
    "        return recipes\n",
    "\n",
    "recipes = loadRecipes()\n",
    "print(recipes)"
   ]
  },
  {
   "cell_type": "code",
   "execution_count": null,
   "metadata": {},
   "outputs": [],
   "source": [
    "recipeName = input(\"Recipe name: \")\n",
    "\n",
    "while recipeName not in recipes:\n",
    "    print(\"Error: Recipe does not exist\")\n",
    "    recipeName=getString(\"recipe name: \")\n",
    "    \n",
    "newNumberOfPeople=int(input(\"servings: \"))\n",
    "\n",
    "for i in range(1,len(recipes[recipeName]),3):\n",
    "    item = recipes[recipeName][i]\n",
    "    amount = recipes[recipeName][i+1]\n",
    "    unit = recipes[recipeName][i+2]\n",
    "    print(item+\": \"+str(float(amount)*float(newNumberOfPeople)/float(recipes[recipeName][0]))+\" \"+unit)"
   ]
  },
  {
   "cell_type": "code",
   "execution_count": null,
   "metadata": {},
   "outputs": [],
   "source": []
  },
  {
   "cell_type": "code",
   "execution_count": null,
   "metadata": {},
   "outputs": [],
   "source": []
  }
 ],
 "metadata": {
  "kernelspec": {
   "display_name": "Python 3",
   "language": "python",
   "name": "python3"
  },
  "language_info": {
   "codemirror_mode": {
    "name": "ipython",
    "version": 3
   },
   "file_extension": ".py",
   "mimetype": "text/x-python",
   "name": "python",
   "nbconvert_exporter": "python",
   "pygments_lexer": "ipython3",
   "version": "3.5.2"
  }
 },
 "nbformat": 4,
 "nbformat_minor": 2
}
